{
 "cells": [
  {
   "cell_type": "code",
   "execution_count": 4,
   "id": "b08a4baf",
   "metadata": {},
   "outputs": [],
   "source": [
    "import pandas as pd"
   ]
  },
  {
   "cell_type": "code",
   "execution_count": 5,
   "id": "b641397b",
   "metadata": {},
   "outputs": [
    {
     "name": "stdout",
     "output_type": "stream",
     "text": [
      " Volume in drive C is Windows\n",
      " Volume Serial Number is 1C19-2A23\n",
      "\n",
      " Directory of C:\\Users\\HP\\Downloads\\Zepto\n",
      "\n",
      "09-08-2024  07:48    <DIR>          .\n",
      "08-08-2024  22:37    <DIR>          ..\n",
      "08-08-2024  22:44    <DIR>          .ipynb_checkpoints\n",
      "09-08-2024  07:44               230 app.py\n",
      "09-08-2024  07:41             1,746 appe.py\n",
      "08-08-2024  21:08        38,134,703 flipkart_com-ecommerce_sample.csv\n",
      "09-08-2024  07:48             9,997 preprocessing.ipynb\n",
      "09-08-2024  06:38    <DIR>          venv\n",
      "               4 File(s)     38,146,676 bytes\n",
      "               4 Dir(s)   4,828,241,920 bytes free\n"
     ]
    }
   ],
   "source": [
    "!dir"
   ]
  },
  {
   "cell_type": "code",
   "execution_count": 6,
   "id": "f0ab425f",
   "metadata": {},
   "outputs": [],
   "source": [
    "data = pd.read_csv(\"flipkart_com-ecommerce_sample.csv\")"
   ]
  },
  {
   "cell_type": "code",
   "execution_count": 7,
   "id": "956a261a",
   "metadata": {},
   "outputs": [
    {
     "name": "stdout",
     "output_type": "stream",
     "text": [
      "<class 'pandas.core.frame.DataFrame'>\n",
      "RangeIndex: 20002 entries, 0 to 20001\n",
      "Data columns (total 15 columns):\n",
      " #   Column                   Non-Null Count  Dtype  \n",
      "---  ------                   --------------  -----  \n",
      " 0   uniq_id                  20000 non-null  object \n",
      " 1   crawl_timestamp          20000 non-null  object \n",
      " 2   product_url              20000 non-null  object \n",
      " 3   product_name             20000 non-null  object \n",
      " 4   product_category_tree    20000 non-null  object \n",
      " 5   pid                      20000 non-null  object \n",
      " 6   retail_price             19922 non-null  float64\n",
      " 7   discounted_price         19922 non-null  float64\n",
      " 8   image                    19997 non-null  object \n",
      " 9   is_FK_Advantage_product  20000 non-null  object \n",
      " 10  description              19998 non-null  object \n",
      " 11  product_rating           20000 non-null  object \n",
      " 12  overall_rating           20000 non-null  object \n",
      " 13  brand                    14136 non-null  object \n",
      " 14  product_specifications   19986 non-null  object \n",
      "dtypes: float64(2), object(13)\n",
      "memory usage: 2.3+ MB\n"
     ]
    }
   ],
   "source": [
    "data.info()"
   ]
  },
  {
   "cell_type": "code",
   "execution_count": 8,
   "id": "e7feef1b",
   "metadata": {},
   "outputs": [],
   "source": [
    "data['searchable_text'] = (\n",
    "    data['product_name'].fillna('') + \" \" +\n",
    "    data['description'].fillna('') + \" \" +\n",
    "    data['brand'].fillna('') + \" \" +\n",
    "    data['product_category_tree'].fillna('')\n",
    ")"
   ]
  },
  {
   "cell_type": "code",
   "execution_count": 9,
   "id": "d23cb4de",
   "metadata": {},
   "outputs": [
    {
     "name": "stdout",
     "output_type": "stream",
     "text": [
      "<class 'pandas.core.frame.DataFrame'>\n",
      "RangeIndex: 20002 entries, 0 to 20001\n",
      "Data columns (total 16 columns):\n",
      " #   Column                   Non-Null Count  Dtype  \n",
      "---  ------                   --------------  -----  \n",
      " 0   uniq_id                  20000 non-null  object \n",
      " 1   crawl_timestamp          20000 non-null  object \n",
      " 2   product_url              20000 non-null  object \n",
      " 3   product_name             20000 non-null  object \n",
      " 4   product_category_tree    20000 non-null  object \n",
      " 5   pid                      20000 non-null  object \n",
      " 6   retail_price             19922 non-null  float64\n",
      " 7   discounted_price         19922 non-null  float64\n",
      " 8   image                    19997 non-null  object \n",
      " 9   is_FK_Advantage_product  20000 non-null  object \n",
      " 10  description              19998 non-null  object \n",
      " 11  product_rating           20000 non-null  object \n",
      " 12  overall_rating           20000 non-null  object \n",
      " 13  brand                    14136 non-null  object \n",
      " 14  product_specifications   19986 non-null  object \n",
      " 15  searchable_text          20002 non-null  object \n",
      "dtypes: float64(2), object(14)\n",
      "memory usage: 2.4+ MB\n"
     ]
    },
    {
     "data": {
      "text/plain": [
       "(0    Alisha Solid Women's Cycling Shorts Key Featur...\n",
       " 1    FabHomeDecor Fabric Double Sofa Bed FabHomeDec...\n",
       " 2    AW Bellies Key Features of AW Bellies Sandals ...\n",
       " 3    Alisha Solid Women's Cycling Shorts Key Featur...\n",
       " 4    Sicons All Purpose Arnica Dog Shampoo Specific...\n",
       " Name: searchable_text, dtype: object,\n",
       " None)"
      ]
     },
     "execution_count": 9,
     "metadata": {},
     "output_type": "execute_result"
    }
   ],
   "source": [
    "data['searchable_text'].head(),data.info()"
   ]
  },
  {
   "cell_type": "code",
   "execution_count": 10,
   "id": "e4df3a7f",
   "metadata": {},
   "outputs": [
    {
     "data": {
      "text/plain": [
       "(20002, 5000)"
      ]
     },
     "execution_count": 10,
     "metadata": {},
     "output_type": "execute_result"
    }
   ],
   "source": [
    "from sklearn.feature_extraction.text import TfidfVectorizer\n",
    "\n",
    "vectorizer = TfidfVectorizer(stop_words='english', max_features=5000)\n",
    "\n",
    "tfidf_matrix = vectorizer.fit_transform(data['searchable_text'])\n",
    "\n",
    "tfidf_matrix.shape"
   ]
  },
  {
   "cell_type": "code",
   "execution_count": 11,
   "id": "67658626",
   "metadata": {},
   "outputs": [],
   "source": [
    "from sklearn.metrics.pairwise import cosine_similarity\n",
    "import numpy as np\n",
    "\n",
    "class RealTimeSearchSystem:\n",
    "    def __init__(self, tfidf_matrix, data, vectorizer):\n",
    "        self.tfidf_matrix = tfidf_matrix\n",
    "        self.data = data\n",
    "        self.vectorizer = vectorizer\n",
    "\n",
    "    def search(self, query, top_n=10):\n",
    "        query_vec = self.vectorizer.transform([query])\n",
    "        similarities = cosine_similarity(query_vec, self.tfidf_matrix).flatten()\n",
    "        top_indices = similarities.argsort()[-top_n:][::-1]\n",
    "        return self.data.iloc[top_indices][['product_name', 'brand', 'product_category_tree', 'description']], similarities[top_indices]\n"
   ]
  },
  {
   "cell_type": "code",
   "execution_count": 12,
   "id": "fdad9691",
   "metadata": {},
   "outputs": [
    {
     "data": {
      "text/plain": [
       "(4886    Buy Aeoss Bike Phone Support Mobile holder for...\n",
       " 1702    kasemantra Back Cover for Apple iPad Mini (Mul...\n",
       " 1869    kasemantra Back Cover for Apple iPad Mini (Mul...\n",
       " 1756    Kasemantra Back Cover for Apple iPad Mini (Mul...\n",
       " 1883    kasemantra Back Cover for Apple iPad Mini (Mul...\n",
       " 1876    kasemantra Back Cover for Apple iPad Mini (Gol...\n",
       " 1658    Kasemantra Back Cover for Apple iPad Mini (Yel...\n",
       " 1674    Kasemantra Back Cover for Apple iPad Mini (Bro...\n",
       " 1711    Kasemantra Back Cover for Apple iPad Mini (Bro...\n",
       " 1853    kasemantra Back Cover for Apple iPad Mini (Dar...\n",
       " Name: description, dtype: object,\n",
       " array([0.55002581, 0.474345  , 0.474345  , 0.474345  , 0.474345  ,\n",
       "        0.47434342, 0.47429974, 0.47408838, 0.47408838, 0.47367577]))"
      ]
     },
     "execution_count": 12,
     "metadata": {},
     "output_type": "execute_result"
    }
   ],
   "source": [
    "search_system = RealTimeSearchSystem(tfidf_matrix, data, vectorizer)\n",
    "example_query = \"mobile phone\"\n",
    "search_results, similarities = search_system.search(example_query)\n",
    "\n",
    "search_results[\"description\"], similarities"
   ]
  },
  {
   "cell_type": "code",
   "execution_count": 13,
   "id": "bb28d6f8",
   "metadata": {},
   "outputs": [],
   "source": [
    "import joblib"
   ]
  },
  {
   "cell_type": "code",
   "execution_count": 14,
   "id": "5cc57021",
   "metadata": {},
   "outputs": [
    {
     "data": {
      "text/plain": [
       "['vectors.joblib']"
      ]
     },
     "execution_count": 14,
     "metadata": {},
     "output_type": "execute_result"
    }
   ],
   "source": [
    "joblib.dump(tfidf_matrix, 'vectors.joblib')"
   ]
  },
  {
   "cell_type": "code",
   "execution_count": 15,
   "id": "c786b473",
   "metadata": {},
   "outputs": [
    {
     "data": {
      "text/plain": [
       "['data.joblib']"
      ]
     },
     "execution_count": 15,
     "metadata": {},
     "output_type": "execute_result"
    }
   ],
   "source": [
    "joblib.dump(data, 'data.joblib')"
   ]
  },
  {
   "cell_type": "code",
   "execution_count": 16,
   "id": "1ac4b87e",
   "metadata": {},
   "outputs": [
    {
     "name": "stdout",
     "output_type": "stream",
     "text": [
      "1.1.1\n"
     ]
    }
   ],
   "source": [
    "print(joblib.__version__)"
   ]
  },
  {
   "cell_type": "code",
   "execution_count": null,
   "id": "6b71668d",
   "metadata": {},
   "outputs": [],
   "source": []
  }
 ],
 "metadata": {
  "kernelspec": {
   "display_name": "Python 3 (ipykernel)",
   "language": "python",
   "name": "python3"
  },
  "language_info": {
   "codemirror_mode": {
    "name": "ipython",
    "version": 3
   },
   "file_extension": ".py",
   "mimetype": "text/x-python",
   "name": "python",
   "nbconvert_exporter": "python",
   "pygments_lexer": "ipython3",
   "version": "3.10.9"
  }
 },
 "nbformat": 4,
 "nbformat_minor": 5
}
